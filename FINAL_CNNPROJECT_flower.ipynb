{
  "nbformat": 4,
  "nbformat_minor": 0,
  "metadata": {
    "colab": {
      "name": "FINAL_PROJECT.ipynb",
      "version": "0.3.2",
      "provenance": [],
      "collapsed_sections": [],
      "include_colab_link": true
    },
    "kernelspec": {
      "name": "python3",
      "display_name": "Python 3"
    },
    "accelerator": "GPU"
  },
  "cells": [
    {
      "cell_type": "markdown",
      "metadata": {
        "id": "view-in-github",
        "colab_type": "text"
      },
      "source": [
        "<a href=\"https://colab.research.google.com/github/Folarin14/hello-world/blob/master/FINAL_CNNPROJECT_flower.ipynb\" target=\"_parent\"><img src=\"https://colab.research.google.com/assets/colab-badge.svg\" alt=\"Open In Colab\"/></a>"
      ]
    },
    {
      "metadata": {
        "id": "JW55pczginXZ",
        "colab_type": "code",
        "outputId": "ed498e89-6e82-415f-c80e-d8daf47a85ac",
        "colab": {
          "base_uri": "https://localhost:8080/",
          "height": 146
        }
      },
      "cell_type": "code",
      "source": [
        "# Install a Drive FUSE wrapper.\n",
        "# https://github.com/astrada/google-drive-ocamlfuse\n",
        "!apt-get install -y -qq software-properties-common python-software-properties module-init-tools\n",
        "!add-apt-repository -y ppa:alessandro-strada/ppa 2>&1 > /dev/null\n",
        "!apt-get update -qq 2>&1 > /dev/null\n",
        "!apt-get -y install -qq google-drive-ocamlfuse fuse"
      ],
      "execution_count": 1,
      "outputs": [
        {
          "output_type": "stream",
          "text": [
            "E: Package 'python-software-properties' has no installation candidate\n",
            "Selecting previously unselected package google-drive-ocamlfuse.\n",
            "(Reading database ... 110842 files and directories currently installed.)\n",
            "Preparing to unpack .../google-drive-ocamlfuse_0.7.1-0ubuntu3~ubuntu18.04.1_amd64.deb ...\n",
            "Unpacking google-drive-ocamlfuse (0.7.1-0ubuntu3~ubuntu18.04.1) ...\n",
            "Setting up google-drive-ocamlfuse (0.7.1-0ubuntu3~ubuntu18.04.1) ...\n",
            "Processing triggers for man-db (2.8.3-2ubuntu0.1) ...\n"
          ],
          "name": "stdout"
        }
      ]
    },
    {
      "metadata": {
        "id": "YTcJ7LQli0mM",
        "colab_type": "code",
        "colab": {}
      },
      "cell_type": "code",
      "source": [
        "# Generate auth tokens for Colab\n",
        "from google.colab import auth\n",
        "auth.authenticate_user()"
      ],
      "execution_count": 0,
      "outputs": []
    },
    {
      "metadata": {
        "id": "V4h6UzXejHwY",
        "colab_type": "code",
        "outputId": "2030708c-adb3-4fc4-d03d-ca7a7e67bd00",
        "colab": {
          "base_uri": "https://localhost:8080/",
          "height": 110
        }
      },
      "cell_type": "code",
      "source": [
        "# Generate creds for the Drive FUSE library.\n",
        "from oauth2client.client import GoogleCredentials\n",
        "creds = GoogleCredentials.get_application_default()\n",
        "import getpass\n",
        "!google-drive-ocamlfuse -headless -id={creds.client_id} -secret={creds.client_secret} < /dev/null 2>&1 | grep URL\n",
        "vcode = getpass.getpass()\n",
        "!echo {vcode} | google-drive-ocamlfuse -headless -id={creds.client_id} -secret={creds.client_secret}"
      ],
      "execution_count": 3,
      "outputs": [
        {
          "output_type": "stream",
          "text": [
            "Please, open the following URL in a web browser: https://accounts.google.com/o/oauth2/auth?client_id=32555940559.apps.googleusercontent.com&redirect_uri=urn%3Aietf%3Awg%3Aoauth%3A2.0%3Aoob&scope=https%3A%2F%2Fwww.googleapis.com%2Fauth%2Fdrive&response_type=code&access_type=offline&approval_prompt=force\n",
            "··········\n",
            "Please, open the following URL in a web browser: https://accounts.google.com/o/oauth2/auth?client_id=32555940559.apps.googleusercontent.com&redirect_uri=urn%3Aietf%3Awg%3Aoauth%3A2.0%3Aoob&scope=https%3A%2F%2Fwww.googleapis.com%2Fauth%2Fdrive&response_type=code&access_type=offline&approval_prompt=force\n",
            "Please enter the verification code: Access token retrieved correctly.\n"
          ],
          "name": "stdout"
        }
      ]
    },
    {
      "metadata": {
        "id": "sNtbHZ1_j0hP",
        "colab_type": "code",
        "colab": {}
      },
      "cell_type": "code",
      "source": [
        "# Create a directory and mount Google Drive using that directory.\n",
        "!mkdir -p drive\n",
        "!google-drive-ocamlfuse drive"
      ],
      "execution_count": 0,
      "outputs": []
    },
    {
      "metadata": {
        "id": "XQFx4KM9kHHm",
        "colab_type": "code",
        "outputId": "1ee36005-742f-4c7d-90a7-400bc6699b66",
        "colab": {
          "base_uri": "https://localhost:8080/",
          "height": 368
        }
      },
      "cell_type": "code",
      "source": [
        "# http://pytorch.org/\n",
        "from os import path\n",
        "from wheel.pep425tags import get_abbr_impl, get_impl_ver, get_abi_tag\n",
        "platform = '{}{}-{}'.format(get_abbr_impl(), get_impl_ver(), get_abi_tag())\n",
        "\n",
        "accelerator = 'cu80' if path.exists('/opt/bin/nvidia-smi') else 'cpu'\n",
        "\n",
        "!pip install -q http://download.pytorch.org/whl/{accelerator}/torch-0.4.0-{platform}-linux_x86_64.whl torchvision\n",
        "!pip install pillow==4.1.1\n",
        "%reload_ext autoreload\n",
        "%autoreload\n",
        "!pip install PIL\n",
        "!pip install image"
      ],
      "execution_count": 5,
      "outputs": [
        {
          "output_type": "stream",
          "text": [
            "tcmalloc: large alloc 1073750016 bytes == 0x5cc4c000 @  0x7f5823f4a2a4 0x591a07 0x5b5d56 0x502e9a 0x506859 0x502209 0x502f3d 0x506859 0x504c28 0x502540 0x502f3d 0x506859 0x504c28 0x502540 0x502f3d 0x506859 0x504c28 0x502540 0x502f3d 0x507641 0x502209 0x502f3d 0x506859 0x504c28 0x502540 0x502f3d 0x507641 0x504c28 0x502540 0x502f3d 0x507641\n",
            "Collecting pillow==4.1.1\n",
            "\u001b[?25l  Downloading https://files.pythonhosted.org/packages/36/e5/88b3d60924a3f8476fa74ec086f5fbaba56dd6cee0d82845f883b6b6dd18/Pillow-4.1.1-cp36-cp36m-manylinux1_x86_64.whl (5.7MB)\n",
            "\u001b[K    100% |████████████████████████████████| 5.7MB 5.5MB/s \n",
            "\u001b[?25hRequirement already satisfied: olefile in /usr/local/lib/python3.6/dist-packages (from pillow==4.1.1) (0.46)\n",
            "Installing collected packages: pillow\n",
            "  Found existing installation: Pillow 5.3.0\n",
            "    Uninstalling Pillow-5.3.0:\n",
            "      Successfully uninstalled Pillow-5.3.0\n",
            "Successfully installed pillow-4.1.1\n",
            "Collecting PIL\n",
            "\u001b[31m  Could not find a version that satisfies the requirement PIL (from versions: )\u001b[0m\n",
            "\u001b[31mNo matching distribution found for PIL\u001b[0m\n",
            "Requirement already satisfied: image in /usr/local/lib/python3.6/dist-packages (1.5.27)\n",
            "Requirement already satisfied: pillow in /usr/local/lib/python3.6/dist-packages (from image) (4.1.1)\n",
            "Requirement already satisfied: django in /usr/local/lib/python3.6/dist-packages (from image) (2.1.4)\n",
            "Requirement already satisfied: olefile in /usr/local/lib/python3.6/dist-packages (from pillow->image) (0.46)\n",
            "Requirement already satisfied: pytz in /usr/local/lib/python3.6/dist-packages (from django->image) (2018.7)\n"
          ],
          "name": "stdout"
        }
      ]
    },
    {
      "metadata": {
        "id": "3BnS_2kYkQ43",
        "colab_type": "code",
        "colab": {}
      },
      "cell_type": "code",
      "source": [
        "# Imports here\n",
        "import torch\n",
        "import torch.nn as nn\n",
        "from torch import optim\n",
        "import torch.nn.functional as F\n",
        "from torchvision import datasets, transforms\n",
        "import numpy as np\n",
        "%matplotlib inline\n",
        "%config InlineBackend.figure_format = 'retina'\n",
        "\n",
        "import matplotlib.pyplot as plt\n",
        "import helper\n",
        "import PIL"
      ],
      "execution_count": 0,
      "outputs": []
    },
    {
      "metadata": {
        "id": "cr2g0pEUbpdS",
        "colab_type": "code",
        "outputId": "a96b0210-fe53-4a76-af9d-b88d224d9056",
        "colab": {
          "base_uri": "https://localhost:8080/",
          "height": 35
        }
      },
      "cell_type": "code",
      "source": [
        "import os, glob\n",
        "os.getcwd()\n",
        "glob.glob('*')"
      ],
      "execution_count": 7,
      "outputs": [
        {
          "output_type": "execute_result",
          "data": {
            "text/plain": [
              "['adc.json', 'drive', 'sample_data']"
            ]
          },
          "metadata": {
            "tags": []
          },
          "execution_count": 7
        }
      ]
    },
    {
      "metadata": {
        "id": "phSjTQk8nx0u",
        "colab_type": "code",
        "colab": {}
      },
      "cell_type": "code",
      "source": [
        "data_dir = 'drive/flower_data/'\n",
        "train_dir = data_dir + 'train'\n",
        "valid_dir = data_dir + 'valid'"
      ],
      "execution_count": 0,
      "outputs": []
    },
    {
      "metadata": {
        "id": "MA4_yILD5kiK",
        "colab_type": "code",
        "outputId": "add3f73c-b0a1-4d52-961b-93766ab9ef6a",
        "colab": {
          "base_uri": "https://localhost:8080/",
          "height": 35
        }
      },
      "cell_type": "code",
      "source": [
        "# check if CUDA is available\n",
        "train_on_gpu = torch.cuda.is_available()\n",
        "\n",
        "if not train_on_gpu:\n",
        "    print('CUDA is not available.  Training on CPU ...')\n",
        "else:\n",
        "    print('CUDA is available!  Training on GPU ...')"
      ],
      "execution_count": 9,
      "outputs": [
        {
          "output_type": "stream",
          "text": [
            "CUDA is available!  Training on GPU ...\n"
          ],
          "name": "stdout"
        }
      ]
    },
    {
      "metadata": {
        "id": "5drF8VNC665o",
        "colab_type": "code",
        "colab": {}
      },
      "cell_type": "code",
      "source": [
        "# TODO: Define your transforms for the training and validation sets\n",
        "train_transforms = transforms.Compose([transforms.Resize(255),\n",
        "                                       transforms.CenterCrop(224),\n",
        "                                       transforms.RandomHorizontalFlip(p=0.2),\n",
        "                                       transforms.RandomVerticalFlip(p=0.2),\n",
        "                                       transforms.ToTensor(),\n",
        "                                       transforms.Normalize((0.485, 0.456, 0.406),\n",
        "                                                          (0.229, 0.224, 0.225))])\n",
        "\n",
        "valid_transforms = transforms.Compose([transforms.Resize(224),\n",
        "                                            transforms.CenterCrop(224),\n",
        "                                            transforms.ToTensor(),\n",
        "                                            transforms.Normalize((0.485, 0.456, 0.406),\n",
        "                                                               (0.229, 0.224, 0.225))]) \n",
        "\n",
        "# TODO: Load the datasets with ImageFolder\n",
        "train_data = datasets.ImageFolder(train_dir, transform = train_transforms)\n",
        "valid_data = datasets.ImageFolder(valid_dir, transform = valid_transforms)\n",
        "\n",
        "# TODO: Using the image datasets and the trainforms, define the dataloaders\n",
        "trainloader = torch.utils.data.DataLoader(train_data, batch_size = 32, shuffle = True)\n",
        "validloader = torch.utils.data.DataLoader(valid_data, batch_size = 32, shuffle = True)"
      ],
      "execution_count": 0,
      "outputs": []
    },
    {
      "metadata": {
        "id": "IwABQX77-zl_",
        "colab_type": "code",
        "outputId": "db8aac8f-22c5-47ff-c3fe-68e221972802",
        "colab": {
          "base_uri": "https://localhost:8080/",
          "height": 1890
        }
      },
      "cell_type": "code",
      "source": [
        "import json\n",
        "\n",
        "with open('drive/cat_to_name.json', 'r') as f:\n",
        "  cat_to_name = json.load(f)\n",
        "\n",
        "cat_to_name = dict(cat_to_name)\n",
        "cat_to_name = {int(key): value for key, value in cat_to_name.items()}\n",
        "cat_to_name"
      ],
      "execution_count": 11,
      "outputs": [
        {
          "output_type": "execute_result",
          "data": {
            "text/plain": [
              "{1: 'pink primrose',\n",
              " 2: 'hard-leaved pocket orchid',\n",
              " 3: 'canterbury bells',\n",
              " 4: 'sweet pea',\n",
              " 5: 'english marigold',\n",
              " 6: 'tiger lily',\n",
              " 7: 'moon orchid',\n",
              " 8: 'bird of paradise',\n",
              " 9: 'monkshood',\n",
              " 10: 'globe thistle',\n",
              " 11: 'snapdragon',\n",
              " 12: \"colt's foot\",\n",
              " 13: 'king protea',\n",
              " 14: 'spear thistle',\n",
              " 15: 'yellow iris',\n",
              " 16: 'globe-flower',\n",
              " 17: 'purple coneflower',\n",
              " 18: 'peruvian lily',\n",
              " 19: 'balloon flower',\n",
              " 20: 'giant white arum lily',\n",
              " 21: 'fire lily',\n",
              " 22: 'pincushion flower',\n",
              " 23: 'fritillary',\n",
              " 24: 'red ginger',\n",
              " 25: 'grape hyacinth',\n",
              " 26: 'corn poppy',\n",
              " 27: 'prince of wales feathers',\n",
              " 28: 'stemless gentian',\n",
              " 29: 'artichoke',\n",
              " 30: 'sweet william',\n",
              " 31: 'carnation',\n",
              " 32: 'garden phlox',\n",
              " 33: 'love in the mist',\n",
              " 34: 'mexican aster',\n",
              " 35: 'alpine sea holly',\n",
              " 36: 'ruby-lipped cattleya',\n",
              " 37: 'cape flower',\n",
              " 38: 'great masterwort',\n",
              " 39: 'siam tulip',\n",
              " 40: 'lenten rose',\n",
              " 41: 'barbeton daisy',\n",
              " 42: 'daffodil',\n",
              " 43: 'sword lily',\n",
              " 44: 'poinsettia',\n",
              " 45: 'bolero deep blue',\n",
              " 46: 'wallflower',\n",
              " 47: 'marigold',\n",
              " 48: 'buttercup',\n",
              " 49: 'oxeye daisy',\n",
              " 50: 'common dandelion',\n",
              " 51: 'petunia',\n",
              " 52: 'wild pansy',\n",
              " 53: 'primula',\n",
              " 54: 'sunflower',\n",
              " 55: 'pelargonium',\n",
              " 56: 'bishop of llandaff',\n",
              " 57: 'gaura',\n",
              " 58: 'geranium',\n",
              " 59: 'orange dahlia',\n",
              " 60: 'pink-yellow dahlia',\n",
              " 61: 'cautleya spicata',\n",
              " 62: 'japanese anemone',\n",
              " 63: 'black-eyed susan',\n",
              " 64: 'silverbush',\n",
              " 65: 'californian poppy',\n",
              " 66: 'osteospermum',\n",
              " 67: 'spring crocus',\n",
              " 68: 'bearded iris',\n",
              " 69: 'windflower',\n",
              " 70: 'tree poppy',\n",
              " 71: 'gazania',\n",
              " 72: 'azalea',\n",
              " 73: 'water lily',\n",
              " 74: 'rose',\n",
              " 75: 'thorn apple',\n",
              " 76: 'morning glory',\n",
              " 77: 'passion flower',\n",
              " 78: 'lotus lotus',\n",
              " 79: 'toad lily',\n",
              " 80: 'anthurium',\n",
              " 81: 'frangipani',\n",
              " 82: 'clematis',\n",
              " 83: 'hibiscus',\n",
              " 84: 'columbine',\n",
              " 85: 'desert-rose',\n",
              " 86: 'tree mallow',\n",
              " 87: 'magnolia',\n",
              " 88: 'cyclamen',\n",
              " 89: 'watercress',\n",
              " 90: 'canna lily',\n",
              " 91: 'hippeastrum',\n",
              " 92: 'bee balm',\n",
              " 93: 'ball moss',\n",
              " 94: 'foxglove',\n",
              " 95: 'bougainvillea',\n",
              " 96: 'camellia',\n",
              " 97: 'mallow',\n",
              " 98: 'mexican petunia',\n",
              " 99: 'bromelia',\n",
              " 100: 'blanket flower',\n",
              " 101: 'trumpet creeper',\n",
              " 102: 'blackberry lily'}"
            ]
          },
          "metadata": {
            "tags": []
          },
          "execution_count": 11
        }
      ]
    },
    {
      "metadata": {
        "id": "w-D_SM6V78xw",
        "colab_type": "code",
        "colab": {}
      },
      "cell_type": "code",
      "source": [
        "# Run this to test your data loader\n",
        "#def imshow(image, ax=None, title=None, normalize=True):\n",
        " #   \"\"\"Imshow for Tensor.\"\"\"\n",
        "  #  if ax is None:\n",
        "   #     fig, ax = plt.subplots()\n",
        "    #image = image.numpy().transpose((1, 2, 0))\n",
        "\n",
        "   # if normalize:\n",
        "    #    mean = np.array([0.485, 0.456, 0.406])\n",
        "     #   std = np.array([0.229, 0.224, 0.225])\n",
        "      #  image = std * image + mean\n",
        "       # image = np.clip(image, 0, 1)\n",
        "\n",
        "    #ax.imshow(image)\n",
        "    #ax.spines['top'].set_visible(False)\n",
        "    #ax.spines['right'].set_visible(False)\n",
        "    #ax.spines['left'].set_visible(False)\n",
        "    #ax.spines['bottom'].set_visible(False)\n",
        "    #ax.tick_params(axis='both', length=0)\n",
        "    #ax.set_xticklabels('')\n",
        "    #ax.set_yticklabels('')\n",
        "\n",
        "    \n",
        "    #return ax\n",
        "\n",
        "\n",
        "#images, labels = next(iter(trainloader))\n",
        "#imshow(images[0], normalize=False)'''"
      ],
      "execution_count": 0,
      "outputs": []
    },
    {
      "metadata": {
        "id": "zs5AQGnq8Euy",
        "colab_type": "code",
        "colab": {}
      },
      "cell_type": "code",
      "source": [
        "\n",
        "#vgg19 = models.vgg19(pretrained = True)"
      ],
      "execution_count": 0,
      "outputs": []
    },
    {
      "metadata": {
        "id": "RA7gKpn7t6Xd",
        "colab_type": "code",
        "colab": {}
      },
      "cell_type": "code",
      "source": [
        "# TODO: Build and train your network\n",
        "\n",
        "import torchvision.models as models\n",
        "vgg11 = models.vgg11(pretrained=False)"
      ],
      "execution_count": 0,
      "outputs": []
    },
    {
      "metadata": {
        "id": "QF8-4a5bbzFP",
        "colab_type": "code",
        "outputId": "072da854-11ad-47d7-c8f3-ee2b9bffdf31",
        "colab": {
          "base_uri": "https://localhost:8080/",
          "height": 641
        }
      },
      "cell_type": "code",
      "source": [
        "vgg11"
      ],
      "execution_count": 16,
      "outputs": [
        {
          "output_type": "execute_result",
          "data": {
            "text/plain": [
              "VGG(\n",
              "  (features): Sequential(\n",
              "    (0): Conv2d(3, 64, kernel_size=(3, 3), stride=(1, 1), padding=(1, 1))\n",
              "    (1): ReLU(inplace)\n",
              "    (2): MaxPool2d(kernel_size=2, stride=2, padding=0, dilation=1, ceil_mode=False)\n",
              "    (3): Conv2d(64, 128, kernel_size=(3, 3), stride=(1, 1), padding=(1, 1))\n",
              "    (4): ReLU(inplace)\n",
              "    (5): MaxPool2d(kernel_size=2, stride=2, padding=0, dilation=1, ceil_mode=False)\n",
              "    (6): Conv2d(128, 256, kernel_size=(3, 3), stride=(1, 1), padding=(1, 1))\n",
              "    (7): ReLU(inplace)\n",
              "    (8): Conv2d(256, 256, kernel_size=(3, 3), stride=(1, 1), padding=(1, 1))\n",
              "    (9): ReLU(inplace)\n",
              "    (10): MaxPool2d(kernel_size=2, stride=2, padding=0, dilation=1, ceil_mode=False)\n",
              "    (11): Conv2d(256, 512, kernel_size=(3, 3), stride=(1, 1), padding=(1, 1))\n",
              "    (12): ReLU(inplace)\n",
              "    (13): Conv2d(512, 512, kernel_size=(3, 3), stride=(1, 1), padding=(1, 1))\n",
              "    (14): ReLU(inplace)\n",
              "    (15): MaxPool2d(kernel_size=2, stride=2, padding=0, dilation=1, ceil_mode=False)\n",
              "    (16): Conv2d(512, 512, kernel_size=(3, 3), stride=(1, 1), padding=(1, 1))\n",
              "    (17): ReLU(inplace)\n",
              "    (18): Conv2d(512, 512, kernel_size=(3, 3), stride=(1, 1), padding=(1, 1))\n",
              "    (19): ReLU(inplace)\n",
              "    (20): MaxPool2d(kernel_size=2, stride=2, padding=0, dilation=1, ceil_mode=False)\n",
              "  )\n",
              "  (classifier): Sequential(\n",
              "    (0): Linear(in_features=25088, out_features=4096, bias=True)\n",
              "    (1): ReLU(inplace)\n",
              "    (2): Dropout(p=0.5)\n",
              "    (3): Linear(in_features=4096, out_features=4096, bias=True)\n",
              "    (4): ReLU(inplace)\n",
              "    (5): Dropout(p=0.5)\n",
              "    (6): Linear(in_features=4096, out_features=1000, bias=True)\n",
              "  )\n",
              ")"
            ]
          },
          "metadata": {
            "tags": []
          },
          "execution_count": 16
        }
      ]
    },
    {
      "metadata": {
        "id": "KyUYdjvUj5RS",
        "colab_type": "code",
        "outputId": "2f291196-d5eb-4768-8ba0-02e1d7009027",
        "colab": {
          "base_uri": "https://localhost:8080/",
          "height": 586
        }
      },
      "cell_type": "code",
      "source": [
        "# Freeze parameters so we don't backprop through them\n",
        "for param in vgg11.parameters():\n",
        "    param.requires_grad = False\n",
        "\n",
        "classifer = nn.Sequential(nn.Linear(25088, 1024),\n",
        "                          nn.ReLU(),\n",
        "                          nn.Dropout(0.2),\n",
        "                          nn.Linear(1024, 102))\n",
        "                          #nn.LogSoftmax(dim=1))\n",
        "vgg11.classifier = classifer\n",
        "vgg11"
      ],
      "execution_count": 19,
      "outputs": [
        {
          "output_type": "execute_result",
          "data": {
            "text/plain": [
              "VGG(\n",
              "  (features): Sequential(\n",
              "    (0): Conv2d(3, 64, kernel_size=(3, 3), stride=(1, 1), padding=(1, 1))\n",
              "    (1): ReLU(inplace)\n",
              "    (2): MaxPool2d(kernel_size=2, stride=2, padding=0, dilation=1, ceil_mode=False)\n",
              "    (3): Conv2d(64, 128, kernel_size=(3, 3), stride=(1, 1), padding=(1, 1))\n",
              "    (4): ReLU(inplace)\n",
              "    (5): MaxPool2d(kernel_size=2, stride=2, padding=0, dilation=1, ceil_mode=False)\n",
              "    (6): Conv2d(128, 256, kernel_size=(3, 3), stride=(1, 1), padding=(1, 1))\n",
              "    (7): ReLU(inplace)\n",
              "    (8): Conv2d(256, 256, kernel_size=(3, 3), stride=(1, 1), padding=(1, 1))\n",
              "    (9): ReLU(inplace)\n",
              "    (10): MaxPool2d(kernel_size=2, stride=2, padding=0, dilation=1, ceil_mode=False)\n",
              "    (11): Conv2d(256, 512, kernel_size=(3, 3), stride=(1, 1), padding=(1, 1))\n",
              "    (12): ReLU(inplace)\n",
              "    (13): Conv2d(512, 512, kernel_size=(3, 3), stride=(1, 1), padding=(1, 1))\n",
              "    (14): ReLU(inplace)\n",
              "    (15): MaxPool2d(kernel_size=2, stride=2, padding=0, dilation=1, ceil_mode=False)\n",
              "    (16): Conv2d(512, 512, kernel_size=(3, 3), stride=(1, 1), padding=(1, 1))\n",
              "    (17): ReLU(inplace)\n",
              "    (18): Conv2d(512, 512, kernel_size=(3, 3), stride=(1, 1), padding=(1, 1))\n",
              "    (19): ReLU(inplace)\n",
              "    (20): MaxPool2d(kernel_size=2, stride=2, padding=0, dilation=1, ceil_mode=False)\n",
              "  )\n",
              "  (classifier): Sequential(\n",
              "    (0): Linear(in_features=25088, out_features=1024, bias=True)\n",
              "    (1): ReLU()\n",
              "    (2): Dropout(p=0.2)\n",
              "    (3): Linear(in_features=1024, out_features=102, bias=True)\n",
              "  )\n",
              ")"
            ]
          },
          "metadata": {
            "tags": []
          },
          "execution_count": 19
        }
      ]
    },
    {
      "metadata": {
        "id": "qWIxXqwU1-Jv",
        "colab_type": "code",
        "colab": {}
      },
      "cell_type": "code",
      "source": [
        "criterion = nn.CrossEntropyLoss()\n",
        "\n",
        "# Only train the classifier parameters, feature parameters are frozen\n",
        "optimizer = optim.SGD(filter(lambda p: p.requires_grad, vgg11.parameters()), lr=0.002)\n",
        "\n",
        "# move tensors to GPU if CUDA is available\n",
        "if train_on_gpu:\n",
        "    vgg11.cuda()"
      ],
      "execution_count": 0,
      "outputs": []
    },
    {
      "metadata": {
        "id": "luGDgE5Wo3V3",
        "colab_type": "code",
        "outputId": "8cc8fbea-28c4-4d1d-a891-a976769e12b2",
        "colab": {
          "base_uri": "https://localhost:8080/",
          "height": 35
        }
      },
      "cell_type": "code",
      "source": [
        "images, labels = next(iter(trainloader))\n",
        "images.shape"
      ],
      "execution_count": 25,
      "outputs": [
        {
          "output_type": "execute_result",
          "data": {
            "text/plain": [
              "torch.Size([32, 3, 224, 224])"
            ]
          },
          "metadata": {
            "tags": []
          },
          "execution_count": 25
        }
      ]
    },
    {
      "metadata": {
        "id": "a9Q7BNy12ItZ",
        "colab_type": "code",
        "outputId": "99a5acc5-a61b-45f0-89eb-a121fb0abc1d",
        "colab": {
          "base_uri": "https://localhost:8080/",
          "height": 752
        }
      },
      "cell_type": "code",
      "source": [
        "# number of times to train the epoch\n",
        "num_epoch = 20\n",
        "\n",
        "valid_loss_min = np.inf  # track changes in validation loss\n",
        "\n",
        "for epoch in range(1, num_epoch+1):\n",
        "  \n",
        "  # keep track of training and validation loss\n",
        "  train_loss = 0\n",
        "  valid_loss = 0\n",
        "  running_correct = 0\n",
        "  \n",
        "  ###################\n",
        "  # train the model #\n",
        "  ###################\n",
        "  \n",
        "  vgg11.train()\n",
        "  for images, labels in trainloader:\n",
        "    # move tensors to GPU if CUDA available\n",
        "    if train_on_gpu:\n",
        "      images, labels = images.cuda(), labels.cuda()\n",
        "      \n",
        "    # clear gradents for all optimized variables to prevent accumulations from previous epochs\n",
        "    optimizer.zero_grad()\n",
        "    # forward pass: compute predicted outputs by passing inputs to the model\n",
        "    output = vgg11(images)\n",
        "    # calculate the batch loss\n",
        "    loss = criterion(output, labels)\n",
        "    # backward pass: compute gradient of the loss with respect to model parameters\n",
        "    loss.backward()\n",
        "    # update the weights/paameters based on gradients (optimisation step)\n",
        "    optimizer.step()\n",
        "    # update training loss\n",
        "    train_loss += loss.item() * images.size(0)\n",
        "    \n",
        "          \n",
        "  ######################    \n",
        "  # validate the model #\n",
        "  ######################\n",
        "  vgg11.eval()\n",
        "  for images, labels in validloader:\n",
        "    # move tensors to GPU if CUDA available\n",
        "    if train_on_gpu:\n",
        "      images, labels = images.cuda(), labels.cuda()\n",
        "    \n",
        "    # forward pass: compute predicted outputs by passing inputs to the model\n",
        "    output = vgg11(images)\n",
        "    # calculate the batch loss\n",
        "    loss = criterion(output, labels)\n",
        "    # update average validation loss\n",
        "    valid_loss += loss.item() * images.size(0)\n",
        "    \n",
        "    # calculate accuracy\n",
        "    _, pred = torch.max(output, 1)\n",
        "    # compare predictions with true label\n",
        "    running_correct += torch.sum(pred == labels.data)\n",
        "    \n",
        "  # calculate average losses\n",
        "  train_loss = train_loss/len(trainloader.dataset)\n",
        "  valid_loss = valid_loss/len(validloader.dataset)\n",
        "  accuracy = running_correct.double()/len(validloader.dataset)\n",
        "  \n",
        "  # print training/validation statistics \n",
        "  print('Epoch: {} \\tTraining Loss: {:.6f} \\tValidation Loss: {:.6f} \\t Accuracy: {:.6f}'.format(\n",
        "        epoch, train_loss, valid_loss, accuracy))\n",
        "    \n",
        "  # save model if validation loss has decreased\n",
        "  if valid_loss <= valid_loss_min:\n",
        "    print('Validation loss decreased ({:.6f} --> {:.6f}).  Saving model ...'.format(\n",
        "        valid_loss_min,\n",
        "        valid_loss))\n",
        "    torch.save(vgg11.state_dict(), 'vgg11_finalproject.pt')\n",
        "    valid_loss_min = valid_loss  \n"
      ],
      "execution_count": 0,
      "outputs": [
        {
          "output_type": "stream",
          "text": [
            "Epoch: 1 \tTraining Loss: 3.981556 \tValidation Loss: 3.252669 \t Accuracy: 0.394866\n",
            "Validation loss decreased (inf --> 3.252669).  Saving model ...\n",
            "Epoch: 2 \tTraining Loss: 2.698569 \tValidation Loss: 2.239087 \t Accuracy: 0.600244\n",
            "Validation loss decreased (3.252669 --> 2.239087).  Saving model ...\n",
            "Epoch: 3 \tTraining Loss: 1.866405 \tValidation Loss: 1.660498 \t Accuracy: 0.722494\n",
            "Validation loss decreased (2.239087 --> 1.660498).  Saving model ...\n",
            "Epoch: 4 \tTraining Loss: 1.368254 \tValidation Loss: 1.296138 \t Accuracy: 0.772616\n",
            "Validation loss decreased (1.660498 --> 1.296138).  Saving model ...\n",
            "Epoch: 5 \tTraining Loss: 1.061089 \tValidation Loss: 1.067869 \t Accuracy: 0.833741\n",
            "Validation loss decreased (1.296138 --> 1.067869).  Saving model ...\n",
            "Epoch: 6 \tTraining Loss: 0.845565 \tValidation Loss: 0.926088 \t Accuracy: 0.845966\n",
            "Validation loss decreased (1.067869 --> 0.926088).  Saving model ...\n",
            "Epoch: 7 \tTraining Loss: 0.705284 \tValidation Loss: 0.821474 \t Accuracy: 0.866748\n",
            "Validation loss decreased (0.926088 --> 0.821474).  Saving model ...\n",
            "Epoch: 8 \tTraining Loss: 0.593470 \tValidation Loss: 0.746782 \t Accuracy: 0.874083\n",
            "Validation loss decreased (0.821474 --> 0.746782).  Saving model ...\n",
            "Epoch: 9 \tTraining Loss: 0.511722 \tValidation Loss: 0.679922 \t Accuracy: 0.878973\n",
            "Validation loss decreased (0.746782 --> 0.679922).  Saving model ...\n",
            "Epoch: 10 \tTraining Loss: 0.462148 \tValidation Loss: 0.634770 \t Accuracy: 0.889976\n",
            "Validation loss decreased (0.679922 --> 0.634770).  Saving model ...\n",
            "Epoch: 11 \tTraining Loss: 0.409744 \tValidation Loss: 0.596585 \t Accuracy: 0.899756\n",
            "Validation loss decreased (0.634770 --> 0.596585).  Saving model ...\n",
            "Epoch: 12 \tTraining Loss: 0.369685 \tValidation Loss: 0.566979 \t Accuracy: 0.903423\n",
            "Validation loss decreased (0.596585 --> 0.566979).  Saving model ...\n",
            "Epoch: 13 \tTraining Loss: 0.329182 \tValidation Loss: 0.546455 \t Accuracy: 0.899756\n",
            "Validation loss decreased (0.566979 --> 0.546455).  Saving model ...\n",
            "Epoch: 14 \tTraining Loss: 0.302624 \tValidation Loss: 0.529360 \t Accuracy: 0.897311\n",
            "Validation loss decreased (0.546455 --> 0.529360).  Saving model ...\n",
            "Epoch: 15 \tTraining Loss: 0.277038 \tValidation Loss: 0.503780 \t Accuracy: 0.907090\n",
            "Validation loss decreased (0.529360 --> 0.503780).  Saving model ...\n",
            "Epoch: 16 \tTraining Loss: 0.254735 \tValidation Loss: 0.488412 \t Accuracy: 0.909535\n",
            "Validation loss decreased (0.503780 --> 0.488412).  Saving model ...\n",
            "Epoch: 17 \tTraining Loss: 0.228750 \tValidation Loss: 0.468676 \t Accuracy: 0.918093\n",
            "Validation loss decreased (0.488412 --> 0.468676).  Saving model ...\n",
            "Epoch: 18 \tTraining Loss: 0.215351 \tValidation Loss: 0.457841 \t Accuracy: 0.918093\n",
            "Validation loss decreased (0.468676 --> 0.457841).  Saving model ...\n",
            "Epoch: 19 \tTraining Loss: 0.203435 \tValidation Loss: 0.443898 \t Accuracy: 0.915648\n",
            "Validation loss decreased (0.457841 --> 0.443898).  Saving model ...\n",
            "Epoch: 20 \tTraining Loss: 0.192932 \tValidation Loss: 0.437784 \t Accuracy: 0.911980\n",
            "Validation loss decreased (0.443898 --> 0.437784).  Saving model ...\n"
          ],
          "name": "stdout"
        }
      ]
    },
    {
      "metadata": {
        "id": "92WYqnACbO6u",
        "colab_type": "code",
        "outputId": "61ad80b4-d306-427e-f00c-29f3e999cf1d",
        "colab": {
          "base_uri": "https://localhost:8080/",
          "height": 586
        }
      },
      "cell_type": "code",
      "source": [
        "vgg11.load_state_dict(torch.load('drive/vgg11_finalproject.pt'))\n",
        "vgg11"
      ],
      "execution_count": 26,
      "outputs": [
        {
          "output_type": "execute_result",
          "data": {
            "text/plain": [
              "VGG(\n",
              "  (features): Sequential(\n",
              "    (0): Conv2d(3, 64, kernel_size=(3, 3), stride=(1, 1), padding=(1, 1))\n",
              "    (1): ReLU(inplace)\n",
              "    (2): MaxPool2d(kernel_size=2, stride=2, padding=0, dilation=1, ceil_mode=False)\n",
              "    (3): Conv2d(64, 128, kernel_size=(3, 3), stride=(1, 1), padding=(1, 1))\n",
              "    (4): ReLU(inplace)\n",
              "    (5): MaxPool2d(kernel_size=2, stride=2, padding=0, dilation=1, ceil_mode=False)\n",
              "    (6): Conv2d(128, 256, kernel_size=(3, 3), stride=(1, 1), padding=(1, 1))\n",
              "    (7): ReLU(inplace)\n",
              "    (8): Conv2d(256, 256, kernel_size=(3, 3), stride=(1, 1), padding=(1, 1))\n",
              "    (9): ReLU(inplace)\n",
              "    (10): MaxPool2d(kernel_size=2, stride=2, padding=0, dilation=1, ceil_mode=False)\n",
              "    (11): Conv2d(256, 512, kernel_size=(3, 3), stride=(1, 1), padding=(1, 1))\n",
              "    (12): ReLU(inplace)\n",
              "    (13): Conv2d(512, 512, kernel_size=(3, 3), stride=(1, 1), padding=(1, 1))\n",
              "    (14): ReLU(inplace)\n",
              "    (15): MaxPool2d(kernel_size=2, stride=2, padding=0, dilation=1, ceil_mode=False)\n",
              "    (16): Conv2d(512, 512, kernel_size=(3, 3), stride=(1, 1), padding=(1, 1))\n",
              "    (17): ReLU(inplace)\n",
              "    (18): Conv2d(512, 512, kernel_size=(3, 3), stride=(1, 1), padding=(1, 1))\n",
              "    (19): ReLU(inplace)\n",
              "    (20): MaxPool2d(kernel_size=2, stride=2, padding=0, dilation=1, ceil_mode=False)\n",
              "  )\n",
              "  (classifier): Sequential(\n",
              "    (0): Linear(in_features=25088, out_features=1024, bias=True)\n",
              "    (1): ReLU()\n",
              "    (2): Dropout(p=0.2)\n",
              "    (3): Linear(in_features=1024, out_features=102, bias=True)\n",
              "  )\n",
              ")"
            ]
          },
          "metadata": {
            "tags": []
          },
          "execution_count": 26
        }
      ]
    },
    {
      "metadata": {
        "id": "8MDx3kpKIjqH",
        "colab_type": "code",
        "outputId": "151ab744-ab41-42e4-d4e6-301d736a5830",
        "colab": {
          "base_uri": "https://localhost:8080/",
          "height": 384
        }
      },
      "cell_type": "code",
      "source": [
        "checkpoint = torch.load('drive/vgg11_finalproject.pt')\n",
        "list(checkpoint.keys())"
      ],
      "execution_count": 0,
      "outputs": [
        {
          "output_type": "execute_result",
          "data": {
            "text/plain": [
              "['features.0.weight',\n",
              " 'features.0.bias',\n",
              " 'features.3.weight',\n",
              " 'features.3.bias',\n",
              " 'features.6.weight',\n",
              " 'features.6.bias',\n",
              " 'features.8.weight',\n",
              " 'features.8.bias',\n",
              " 'features.11.weight',\n",
              " 'features.11.bias',\n",
              " 'features.13.weight',\n",
              " 'features.13.bias',\n",
              " 'features.16.weight',\n",
              " 'features.16.bias',\n",
              " 'features.18.weight',\n",
              " 'features.18.bias',\n",
              " 'classifier.0.weight',\n",
              " 'classifier.0.bias',\n",
              " 'classifier.3.weight',\n",
              " 'classifier.3.bias']"
            ]
          },
          "metadata": {
            "tags": []
          },
          "execution_count": 18
        }
      ]
    },
    {
      "metadata": {
        "id": "XYgAIpR6T0ka",
        "colab_type": "code",
        "colab": {}
      },
      "cell_type": "code",
      "source": [
        "# import and load test data\n",
        "\n",
        "test_dir = 'drive/test/'\n",
        "\n",
        "test_data = datasets.ImageFolder(test_dir, transform = valid_transforms)\n",
        "\n",
        "test_loader = torch.utils.data.DataLoader(test_data, batch_size = 32)\n"
      ],
      "execution_count": 0,
      "outputs": []
    },
    {
      "metadata": {
        "id": "rIYsxils_KqJ",
        "colab_type": "code",
        "outputId": "d54f7619-0635-479d-d6c9-f9915603e9c9",
        "colab": {
          "base_uri": "https://localhost:8080/",
          "height": 35
        }
      },
      "cell_type": "code",
      "source": [
        "# how many samples per batch to load\n",
        "batch_size = 32\n",
        "\n",
        "# track test loss\n",
        "test_loss = 0.0\n",
        "running_correct = 0\n",
        "#class_correct = list(0. for i in range(103))\n",
        "#class_total = list(0. for i in range(103))\n",
        "\n",
        "vgg11.eval()\n",
        "# iterate over test data\n",
        "for images, labels in test_loader:\n",
        "    # move tensors to GPU if CUDA is available\n",
        "    if train_on_gpu:\n",
        "        images, labels = images.cuda(), labels.cuda()\n",
        "    # forward pass: compute predicted outputs by passing inputs to the model\n",
        "    output = vgg11(images)\n",
        "    # calculate the batch loss\n",
        "    loss = criterion(output, labels)\n",
        "    # update test loss \n",
        "    test_loss += loss.item()*images.size(0)\n",
        "    # convert output probabilities to predicted class\n",
        "    _, pred = torch.max(output, 1)    \n",
        "    # compare predictions to true label\n",
        "    running_correct += torch.sum(pred == labels.data)\n",
        "    \n",
        "# average test loss\n",
        "test_loss = test_loss/len(test_loader.dataset)\n",
        "# accuracy of test data\n",
        "accuracy = running_correct.double()/len(test_loader.dataset)\n",
        "\n",
        "# print training/validation statistics \n",
        "print('Test Loss: {:.6f} \\t Accuracy: {:.6f}'.format(\n",
        "      test_loss, accuracy))"
      ],
      "execution_count": 27,
      "outputs": [
        {
          "output_type": "stream",
          "text": [
            "Test Loss: 0.492773 \t Accuracy: 0.904762\n"
          ],
          "name": "stdout"
        }
      ]
    },
    {
      "metadata": {
        "id": "WoQvQfR_OCaY",
        "colab_type": "code",
        "outputId": "f69e2339-acea-446d-f8af-0eb6a212ae39",
        "colab": {
          "base_uri": "https://localhost:8080/",
          "height": 35
        }
      },
      "cell_type": "code",
      "source": [
        "output = vgg11(images)\n",
        "images.shape"
      ],
      "execution_count": 0,
      "outputs": [
        {
          "output_type": "execute_result",
          "data": {
            "text/plain": [
              "torch.Size([19, 3, 224, 224])"
            ]
          },
          "metadata": {
            "tags": []
          },
          "execution_count": 38
        }
      ]
    },
    {
      "metadata": {
        "id": "g8scinS5XDVC",
        "colab_type": "code",
        "outputId": "9559aa79-0b9c-4e5b-c8a4-35ca2434589e",
        "colab": {
          "base_uri": "https://localhost:8080/",
          "height": 54
        }
      },
      "cell_type": "code",
      "source": [
        "  _, pred = torch.max(output, 1) \n",
        "pred"
      ],
      "execution_count": 0,
      "outputs": [
        {
          "output_type": "execute_result",
          "data": {
            "text/plain": [
              "tensor([ 77,  77,  77,  77,  77,  77,  11,  77,  77,  77,  77,  77,\n",
              "         77,  77,  77,  77,  77,  77], device='cuda:0')"
            ]
          },
          "metadata": {
            "tags": []
          },
          "execution_count": 23
        }
      ]
    },
    {
      "metadata": {
        "id": "aOrKfHafX1M6",
        "colab_type": "code",
        "outputId": "00dbb552-f222-4de4-9c87-faa5e2ebc3fc",
        "colab": {
          "base_uri": "https://localhost:8080/",
          "height": 319
        }
      },
      "cell_type": "code",
      "source": [
        " correct_tensor = pred.eq(labels.data.view_as(pred))\n",
        " correct_tensor.shape"
      ],
      "execution_count": 0,
      "outputs": [
        {
          "output_type": "error",
          "ename": "RuntimeError",
          "evalue": "ignored",
          "traceback": [
            "\u001b[0;31m---------------------------------------------------------------------------\u001b[0m",
            "\u001b[0;31mRuntimeError\u001b[0m                              Traceback (most recent call last)",
            "\u001b[0;32m<ipython-input-57-d0ae67ad27c1>\u001b[0m in \u001b[0;36m<module>\u001b[0;34m()\u001b[0m\n\u001b[0;32m----> 1\u001b[0;31m \u001b[0mcorrect_tensor\u001b[0m \u001b[0;34m=\u001b[0m \u001b[0mpred\u001b[0m\u001b[0;34m.\u001b[0m\u001b[0meq\u001b[0m\u001b[0;34m(\u001b[0m\u001b[0mlabels\u001b[0m\u001b[0;34m.\u001b[0m\u001b[0mdata\u001b[0m\u001b[0;34m.\u001b[0m\u001b[0mview_as\u001b[0m\u001b[0;34m(\u001b[0m\u001b[0mpred\u001b[0m\u001b[0;34m)\u001b[0m\u001b[0;34m)\u001b[0m\u001b[0;34m\u001b[0m\u001b[0;34m\u001b[0m\u001b[0m\n\u001b[0m\u001b[1;32m      2\u001b[0m \u001b[0mcorrect_tensor\u001b[0m\u001b[0;34m.\u001b[0m\u001b[0mshape\u001b[0m\u001b[0;34m\u001b[0m\u001b[0;34m\u001b[0m\u001b[0m\n",
            "\u001b[0;32m/usr/local/lib/python3.6/dist-packages/torch/tensor.py\u001b[0m in \u001b[0;36mview_as\u001b[0;34m(self, tensor)\u001b[0m\n\u001b[1;32m    228\u001b[0m                 \u001b[0;32mas\u001b[0m \u001b[0;34m:\u001b[0m\u001b[0mattr\u001b[0m\u001b[0;34m:\u001b[0m\u001b[0;31m`\u001b[0m\u001b[0mother\u001b[0m\u001b[0;34m.\u001b[0m\u001b[0msize\u001b[0m\u001b[0;34m(\u001b[0m\u001b[0;34m)\u001b[0m\u001b[0;31m`\u001b[0m\u001b[0;34m.\u001b[0m\u001b[0;34m\u001b[0m\u001b[0;34m\u001b[0m\u001b[0m\n\u001b[1;32m    229\u001b[0m         \"\"\"\n\u001b[0;32m--> 230\u001b[0;31m         \u001b[0;32mreturn\u001b[0m \u001b[0mself\u001b[0m\u001b[0;34m.\u001b[0m\u001b[0mview\u001b[0m\u001b[0;34m(\u001b[0m\u001b[0mtensor\u001b[0m\u001b[0;34m.\u001b[0m\u001b[0msize\u001b[0m\u001b[0;34m(\u001b[0m\u001b[0;34m)\u001b[0m\u001b[0;34m)\u001b[0m\u001b[0;34m\u001b[0m\u001b[0;34m\u001b[0m\u001b[0m\n\u001b[0m\u001b[1;32m    231\u001b[0m \u001b[0;34m\u001b[0m\u001b[0m\n\u001b[1;32m    232\u001b[0m     \u001b[0;32mdef\u001b[0m \u001b[0margmax\u001b[0m\u001b[0;34m(\u001b[0m\u001b[0mself\u001b[0m\u001b[0;34m,\u001b[0m \u001b[0mdim\u001b[0m\u001b[0;34m=\u001b[0m\u001b[0;32mNone\u001b[0m\u001b[0;34m,\u001b[0m \u001b[0mkeepdim\u001b[0m\u001b[0;34m=\u001b[0m\u001b[0;32mFalse\u001b[0m\u001b[0;34m)\u001b[0m\u001b[0;34m:\u001b[0m\u001b[0;34m\u001b[0m\u001b[0;34m\u001b[0m\u001b[0m\n",
            "\u001b[0;31mRuntimeError\u001b[0m: invalid argument 2: size '[19]' is invalid for input with 20 elements at /pytorch/aten/src/TH/THStorage.c:41"
          ]
        }
      ]
    },
    {
      "metadata": {
        "id": "IpA6W7xAxyjf",
        "colab_type": "code",
        "outputId": "f8216bdf-1d03-4bc2-84b7-72a927447782",
        "colab": {
          "base_uri": "https://localhost:8080/",
          "height": 35
        }
      },
      "cell_type": "code",
      "source": [
        "vgg11.parameters()"
      ],
      "execution_count": 0,
      "outputs": [
        {
          "output_type": "execute_result",
          "data": {
            "text/plain": [
              "<generator object Module.parameters at 0x7f8dcc8bdf68>"
            ]
          },
          "metadata": {
            "tags": []
          },
          "execution_count": 58
        }
      ]
    },
    {
      "metadata": {
        "id": "msUMPUHYx4Q1",
        "colab_type": "code",
        "colab": {}
      },
      "cell_type": "code",
      "source": [
        "print('Test Loss: {:.6f}\\n'.format(test_loss))\n",
        "\n",
        "for i in range(1, 103):\n",
        "    if class_total[i] > 0:\n",
        "        print('Test Accuracy of %5s: %2d%% (%2d/%2d)' % (\n",
        "            cat_to_name[i], 100 * class_correct[i] / class_total[i],\n",
        "            np.sum(class_correct[i]), np.sum(class_total[i])))\n",
        "    else:\n",
        "        print('Test Accuracy of %5s: N/A (no training examples)' % (cat_to_name[i]))\n",
        "\n",
        "print('\\nTest Accuracy (Overall): %2d%% (%2d/%2d)' % (\n",
        "    100. * np.sum(class_correct) / np.sum(class_total),\n",
        "    np.sum(class_correct), np.sum(class_total)))"
      ],
      "execution_count": 0,
      "outputs": []
    }
  ]
}